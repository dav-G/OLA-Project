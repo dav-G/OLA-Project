{
 "cells": [
  {
   "cell_type": "code",
   "execution_count": 67,
   "id": "1d856857-02e0-4f9e-8a44-025598b829aa",
   "metadata": {},
   "outputs": [],
   "source": [
    "def warn(*args, **kwargs):\n",
    "    pass\n",
    "\n",
    "import warnings\n",
    "import numpy as np\n",
    "from matplotlib import pyplot as plt\n",
    "from sklearn.gaussian_process import GaussianProcessRegressor\n",
    "from sklearn.gaussian_process.kernels import RBF,ConstantKernel as C\n",
    "\n",
    "warnings.warn = warn"
   ]
  },
  {
   "cell_type": "code",
   "execution_count": 102,
   "id": "72f28b60-e719-497b-a878-f2c40d1e071b",
   "metadata": {},
   "outputs": [],
   "source": [
    "class Customer:\n",
    "    def __init__(self, name, clicks_a, clicks_b, clicks_c):\n",
    "        self.name = name\n",
    "        self.clicks_a = clicks_a\n",
    "        self.clicks_b = clicks_b\n",
    "        self.clicks_c = clicks_c\n",
    "    \n",
    "    def num_clicks(self, bid):\n",
    "        return (1.0 - np.exp(self.clicks_a * bid + self.clicks_b * bid**2)) * self.clicks_c\n",
    "    \n",
    "    def cum_cost_clicks(self, bid):\n",
    "        pass\n",
    "    \n",
    "    def conversion_probability(self, price):\n",
    "        pass"
   ]
  },
  {
   "cell_type": "code",
   "execution_count": 103,
   "id": "babe7b16-69d8-43bd-8ebb-55d3ffa38a65",
   "metadata": {},
   "outputs": [],
   "source": [
    "def sell_margin(price):\n",
    "    pass"
   ]
  },
  {
   "cell_type": "code",
   "execution_count": 104,
   "id": "edd0ca41-4544-41e3-8cf7-be33ed0015db",
   "metadata": {},
   "outputs": [],
   "source": [
    "customers = []\n",
    "customers.append(Customer('C1', -1.5, 0.5, 100))\n",
    "customers.append(Customer('C2', -0.5, -1.5, 80))\n",
    "customers.append(Customer('C3', -5, 0.3, 65))\n",
    "\n",
    "bids = np.linspace(0.0,1.0,20)\n",
    "prices = np.linspace(10.0,100.0,1000)\n",
    "\n",
    "margin = 20"
   ]
  },
  {
   "cell_type": "code",
   "execution_count": 105,
   "id": "36ee5855-d265-43d0-b255-99ed37442b6f",
   "metadata": {},
   "outputs": [
    {
     "data": {
      "text/plain": [
       "<function matplotlib.pyplot.show(close=None, block=None)>"
      ]
     },
     "execution_count": 123,
     "metadata": {},
     "output_type": "execute_result"
    },
    {
     "data": {
      "image/png": "[encoded data removed]",
      "text/plain": [
       "<Figure size 432x288 with 1 Axes>"
      ]
     },
     "metadata": {
      "needs_background": "light"
     },
     "output_type": "display_data"
    }
   ],
   "source": [
    "x = np.atleast_2d(bids).T\n",
    "plt.figure(0)\n",
    "\n",
    "for C in customers:\n",
    "    plt.plot(x, C.num_clicks(x), label=r'$' + C.name + '$')\n",
    "\n",
    "plt.xlabel('$bid$')\n",
    "plt.ylabel('$clicks(bid)$')\n",
    "plt.legend(loc='lower right')\n",
    "plt.show"
   ]
  },
  {
   "cell_type": "code",
   "execution_count": 129,
   "id": "02549f15-dbcb-4344-965a-fe541e6f21d9",
   "metadata": {},
   "outputs": [
    {
     "name": "stdout",
     "output_type": "stream",
     "text": [
      "CUSTOMER C1\n",
      "   Best price: 100.0\n",
      "   Best bid: 1.0\n",
      "CUSTOMER C2\n",
      "   Best price: 100.0\n",
      "   Best bid: 1.0\n",
      "CUSTOMER C3\n",
      "   Best price: 100.0\n",
      "   Best bid: 1.0\n",
      "Total reward: 988888.5520668905\n"
     ]
    }
   ],
   "source": [
    "reward = 0\n",
    "best_prices = []\n",
    "best_bids = []\n",
    "rewards = []\n",
    "\n",
    "for C in customers:\n",
    "    best_price = prices[ np.argmax( [C.conversion_probability(price) * sell_margin(price) for price in prices] ) ]\n",
    "    best_prices.append(best_price)\n",
    "    \n",
    "    best_bid = bids[ np.argmax( [C.num_clicks(bid) * C.conversion_probability(best_price) * sell_margin(best_price) - C.cum_cost_clicks(bid) for bid in bids] ) ]\n",
    "    best_bids.append(best_bid)\n",
    "    \n",
    "    reward = C.num_clicks(best_bid) * C.conversion_probability(best_price) * sell_margin(best_price) - C.cum_cost_clicks(best_bid)\n",
    "    rewards.append(reward)\n",
    "    \n",
    "    print('CUSTOMER {}'.format(C.name))\n",
    "    print('   Best price: {}'.format(best_price))\n",
    "    print('   Best bid: {}'.format(best_bid))\n",
    "    \n",
    "print('Total reward: {}'.format(sum(rewards)))"
   ]
  },
  {
   "cell_type": "code",
   "execution_count": null,
   "id": "12c325e3-2662-4029-9ed7-6524bc997697",
   "metadata": {},
   "outputs": [],
   "source": []
  }
 ],
 "metadata": {
  "kernelspec": {
   "display_name": "Python 3 (ipykernel)",
   "language": "python",
   "name": "python3"
  },
  "language_info": {
   "codemirror_mode": {
    "name": "ipython",
    "version": 3
   },
   "file_extension": ".py",
   "mimetype": "text/x-python",
   "name": "python",
   "nbconvert_exporter": "python",
   "pygments_lexer": "ipython3",
   "version": "3.8.5"
  }
 },
 "nbformat": 4,
 "nbformat_minor": 5
}
